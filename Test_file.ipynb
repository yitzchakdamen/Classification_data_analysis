{
 "cells": [
  {
   "cell_type": "code",
   "execution_count": null,
   "id": "41deaa8c",
   "metadata": {},
   "outputs": [],
   "source": [
    "import pandas as pd"
   ]
  },
  {
   "cell_type": "code",
   "execution_count": null,
   "id": "7e5ddd67",
   "metadata": {},
   "outputs": [],
   "source": [
    "df = pd.read_csv(\"data/tweets_dataset.csv\")\n",
    "df"
   ]
  },
  {
   "cell_type": "code",
   "execution_count": null,
   "id": "ef5ac81e",
   "metadata": {},
   "outputs": [],
   "source": [
    "len(df)"
   ]
  },
  {
   "cell_type": "code",
   "execution_count": null,
   "id": "f368cf29",
   "metadata": {},
   "outputs": [],
   "source": [
    "df.Biased.unique()\n",
    "a = (df.Biased == 1).sum()\n",
    "b = (df.Biased == 0).sum()\n",
    "df.shape[0] - a - b"
   ]
  },
  {
   "cell_type": "code",
   "execution_count": null,
   "id": "4e925863",
   "metadata": {},
   "outputs": [],
   "source": [
    "a = df[(df.Biased != 0) & ( df.Biased != 1)]\n",
    "x = a.Text.str.len().mean() \n",
    "x"
   ]
  },
  {
   "cell_type": "code",
   "execution_count": null,
   "id": "1024033d",
   "metadata": {},
   "outputs": [],
   "source": [
    "df.Biased.value_counts()"
   ]
  },
  {
   "cell_type": "code",
   "execution_count": 84,
   "id": "ea9f33f4",
   "metadata": {},
   "outputs": [
    {
     "data": {
      "text/plain": [
       "np.float64(23.6072)"
      ]
     },
     "metadata": {},
     "output_type": "display_data"
    },
    {
     "data": {
      "text/plain": [
       "0       271\n",
       "1        51\n",
       "2       164\n",
       "15      289\n",
       "39       72\n",
       "       ... \n",
       "6936     89\n",
       "6937    112\n",
       "6938     68\n",
       "6939    118\n",
       "6940    132\n",
       "Name: Text, Length: 1250, dtype: int64"
      ]
     },
     "metadata": {},
     "output_type": "display_data"
    }
   ],
   "source": [
    "d = df[df.Biased == 1 ]\n",
    "z = d.Text.str.split()\n",
    "display(z.str.len().mean())\n",
    "display(d.Text.str.len())\n",
    "\n",
    "\n",
    "# d = df[df.Biased == 0 ]\n",
    "# d.Text.str.len().mean()\n",
    "\n",
    "# df.Text.str.len().mean()\n"
   ]
  },
  {
   "cell_type": "code",
   "execution_count": null,
   "id": "e0444d60",
   "metadata": {},
   "outputs": [],
   "source": [
    "df.iloc[0].Text"
   ]
  },
  {
   "cell_type": "code",
   "execution_count": null,
   "id": "7ac710dc",
   "metadata": {},
   "outputs": [],
   "source": []
  },
  {
   "cell_type": "code",
   "execution_count": 104,
   "id": "eece4e4d",
   "metadata": {},
   "outputs": [
    {
     "data": {
      "text/plain": [
       "[6088, 5987, 3659]"
      ]
     },
     "execution_count": 104,
     "metadata": {},
     "output_type": "execute_result"
    }
   ],
   "source": [
    "df.Text.str.len().sort_values(ascending=False).head(3).index.to_list()\n"
   ]
  },
  {
   "cell_type": "code",
   "execution_count": 144,
   "id": "b329e968",
   "metadata": {},
   "outputs": [
    {
     "data": {
      "text/plain": [
       "np.int64(7085)"
      ]
     },
     "execution_count": 144,
     "metadata": {},
     "output_type": "execute_result"
    }
   ],
   "source": [
    "\n",
    "# df.Text.str.split().flatten()\n",
    "pd.Series(\" \".join(df.Text).split()).str.isupper().sum()"
   ]
  },
  {
   "cell_type": "code",
   "execution_count": null,
   "id": "f7b5cd04",
   "metadata": {},
   "outputs": [
    {
     "data": {
      "text/html": [
       "<div>\n",
       "<style scoped>\n",
       "    .dataframe tbody tr th:only-of-type {\n",
       "        vertical-align: middle;\n",
       "    }\n",
       "\n",
       "    .dataframe tbody tr th {\n",
       "        vertical-align: top;\n",
       "    }\n",
       "\n",
       "    .dataframe thead th {\n",
       "        text-align: right;\n",
       "    }\n",
       "</style>\n",
       "<table border=\"1\" class=\"dataframe\">\n",
       "  <thead>\n",
       "    <tr style=\"text-align: right;\">\n",
       "      <th></th>\n",
       "      <th>TweetID</th>\n",
       "      <th>Username</th>\n",
       "      <th>Text</th>\n",
       "      <th>CreateDate</th>\n",
       "      <th>Biased</th>\n",
       "      <th>Keyword</th>\n",
       "    </tr>\n",
       "  </thead>\n",
       "  <tbody>\n",
       "    <tr>\n",
       "      <th>0</th>\n",
       "      <td>1228740093357092865</td>\n",
       "      <td>Celtic_Films</td>\n",
       "      <td>AIPAC should be registered as a foreign agent ...</td>\n",
       "      <td>2020-02-15 17:57:21+00:00</td>\n",
       "      <td>1</td>\n",
       "      <td>Israel</td>\n",
       "    </tr>\n",
       "    <tr>\n",
       "      <th>1</th>\n",
       "      <td>1239547900012589056</td>\n",
       "      <td>zariths__</td>\n",
       "      <td>RT @qiss0rkid: go to israel pls , we don't nee...</td>\n",
       "      <td>2020-03-16 13:43:43+00:00</td>\n",
       "      <td>1</td>\n",
       "      <td>Israel</td>\n",
       "    </tr>\n",
       "    <tr>\n",
       "      <th>2</th>\n",
       "      <td>1216559517887954945</td>\n",
       "      <td>kelownascott</td>\n",
       "      <td>The world, including Canada, has given Israel ...</td>\n",
       "      <td>2020-01-13 03:16:06+00:00</td>\n",
       "      <td>1</td>\n",
       "      <td>Israel</td>\n",
       "    </tr>\n",
       "    <tr>\n",
       "      <th>3</th>\n",
       "      <td>1217123508754534400</td>\n",
       "      <td>KeishaJake</td>\n",
       "      <td>These children avoid walking over the US &amp;amp;...</td>\n",
       "      <td>2020-01-14 16:37:12+00:00</td>\n",
       "      <td>0</td>\n",
       "      <td>Israel</td>\n",
       "    </tr>\n",
       "    <tr>\n",
       "      <th>4</th>\n",
       "      <td>1232258532273090560</td>\n",
       "      <td>amit2nirvana</td>\n",
       "      <td>RT @IDF: The last 24 hours in Israel: https://...</td>\n",
       "      <td>2020-02-25 10:58:23+00:00</td>\n",
       "      <td>0</td>\n",
       "      <td>Israel</td>\n",
       "    </tr>\n",
       "    <tr>\n",
       "      <th>...</th>\n",
       "      <td>...</td>\n",
       "      <td>...</td>\n",
       "      <td>...</td>\n",
       "      <td>...</td>\n",
       "      <td>...</td>\n",
       "      <td>...</td>\n",
       "    </tr>\n",
       "    <tr>\n",
       "      <th>6936</th>\n",
       "      <td>1241770877336711168</td>\n",
       "      <td>CitizenJane99</td>\n",
       "      <td>\"Use your socks as face masks\"\\r\\n   Zionazi I...</td>\n",
       "      <td>2020-03-22 16:57:02+00:00</td>\n",
       "      <td>1</td>\n",
       "      <td>ZioNazi</td>\n",
       "    </tr>\n",
       "    <tr>\n",
       "      <th>6937</th>\n",
       "      <td>1241902809592803328</td>\n",
       "      <td>CHUCK_1967</td>\n",
       "      <td>THE GREAT DEPRESSION. THESE ZIONAZI JEWS AND T...</td>\n",
       "      <td>2020-03-23 01:41:17+00:00</td>\n",
       "      <td>1</td>\n",
       "      <td>ZioNazi</td>\n",
       "    </tr>\n",
       "    <tr>\n",
       "      <th>6938</th>\n",
       "      <td>1243432780127707136</td>\n",
       "      <td>FeralGlance10</td>\n",
       "      <td>@parislees @irisstylosa Not when it's run by b...</td>\n",
       "      <td>2020-03-27 07:00:51+00:00</td>\n",
       "      <td>1</td>\n",
       "      <td>ZioNazi</td>\n",
       "    </tr>\n",
       "    <tr>\n",
       "      <th>6939</th>\n",
       "      <td>1244685065470107648</td>\n",
       "      <td>Nables_S</td>\n",
       "      <td>@wherepond @Tibou12379939 @JuanCalosoooooo @pa...</td>\n",
       "      <td>2020-03-30 17:56:59+00:00</td>\n",
       "      <td>1</td>\n",
       "      <td>ZioNazi</td>\n",
       "    </tr>\n",
       "    <tr>\n",
       "      <th>6940</th>\n",
       "      <td>1244973868936130560</td>\n",
       "      <td>Zencali</td>\n",
       "      <td>RT @Nables_S: @wherepond @Tibou12379939 @JuanC...</td>\n",
       "      <td>2020-03-31 13:04:35+00:00</td>\n",
       "      <td>1</td>\n",
       "      <td>ZioNazi</td>\n",
       "    </tr>\n",
       "  </tbody>\n",
       "</table>\n",
       "<p>6941 rows × 6 columns</p>\n",
       "</div>"
      ],
      "text/plain": [
       "                  TweetID       Username  \\\n",
       "0     1228740093357092865   Celtic_Films   \n",
       "1     1239547900012589056      zariths__   \n",
       "2     1216559517887954945   kelownascott   \n",
       "3     1217123508754534400     KeishaJake   \n",
       "4     1232258532273090560   amit2nirvana   \n",
       "...                   ...            ...   \n",
       "6936  1241770877336711168  CitizenJane99   \n",
       "6937  1241902809592803328     CHUCK_1967   \n",
       "6938  1243432780127707136  FeralGlance10   \n",
       "6939  1244685065470107648       Nables_S   \n",
       "6940  1244973868936130560        Zencali   \n",
       "\n",
       "                                                   Text  \\\n",
       "0     AIPAC should be registered as a foreign agent ...   \n",
       "1     RT @qiss0rkid: go to israel pls , we don't nee...   \n",
       "2     The world, including Canada, has given Israel ...   \n",
       "3     These children avoid walking over the US &amp;...   \n",
       "4     RT @IDF: The last 24 hours in Israel: https://...   \n",
       "...                                                 ...   \n",
       "6936  \"Use your socks as face masks\"\\r\\n   Zionazi I...   \n",
       "6937  THE GREAT DEPRESSION. THESE ZIONAZI JEWS AND T...   \n",
       "6938  @parislees @irisstylosa Not when it's run by b...   \n",
       "6939  @wherepond @Tibou12379939 @JuanCalosoooooo @pa...   \n",
       "6940  RT @Nables_S: @wherepond @Tibou12379939 @JuanC...   \n",
       "\n",
       "                     CreateDate  Biased  Keyword  \n",
       "0     2020-02-15 17:57:21+00:00       1   Israel  \n",
       "1     2020-03-16 13:43:43+00:00       1   Israel  \n",
       "2     2020-01-13 03:16:06+00:00       1   Israel  \n",
       "3     2020-01-14 16:37:12+00:00       0   Israel  \n",
       "4     2020-02-25 10:58:23+00:00       0   Israel  \n",
       "...                         ...     ...      ...  \n",
       "6936  2020-03-22 16:57:02+00:00       1  ZioNazi  \n",
       "6937  2020-03-23 01:41:17+00:00       1  ZioNazi  \n",
       "6938  2020-03-27 07:00:51+00:00       1  ZioNazi  \n",
       "6939  2020-03-30 17:56:59+00:00       1  ZioNazi  \n",
       "6940  2020-03-31 13:04:35+00:00       1  ZioNazi  \n",
       "\n",
       "[6941 rows x 6 columns]"
      ]
     },
     "execution_count": 151,
     "metadata": {},
     "output_type": "execute_result"
    }
   ],
   "source": [
    "a = [\"Username\", \"CreateDate\"]\n",
    "df[a]"
   ]
  },
  {
   "cell_type": "code",
   "execution_count": 152,
   "id": "22945149",
   "metadata": {},
   "outputs": [],
   "source": [
    "df.Text.replace(to_replace=\".\", value=\"\",inplace=True)"
   ]
  },
  {
   "cell_type": "code",
   "execution_count": null,
   "id": "27fc0551",
   "metadata": {},
   "outputs": [],
   "source": [
    "data.Text.replace(to_replace=\".\", value=\"\",inplace=True)"
   ]
  },
  {
   "cell_type": "code",
   "execution_count": 155,
   "id": "12ecb4d8",
   "metadata": {},
   "outputs": [
    {
     "data": {
      "text/plain": [
       "0       aipac should be registered as a foreign agent ...\n",
       "1       rt @qiss0rkid: go to israel pls , we don't nee...\n",
       "2       the world, including canada, has given israel ...\n",
       "3       these children avoid walking over the us &amp;...\n",
       "4       rt @idf: the last 24 hours in israel: https://...\n",
       "                              ...                        \n",
       "6936    \"use your socks as face masks\"\\r\\n   zionazi i...\n",
       "6937    the great depression. these zionazi jews and t...\n",
       "6938    @parislees @irisstylosa not when it's run by b...\n",
       "6939    @wherepond @tibou12379939 @juancalosoooooo @pa...\n",
       "6940    rt @nables_s: @wherepond @tibou12379939 @juanc...\n",
       "Name: Text, Length: 6941, dtype: object"
      ]
     },
     "execution_count": 155,
     "metadata": {},
     "output_type": "execute_result"
    }
   ],
   "source": [
    "s = df.Text.str.lower()\n",
    "s"
   ]
  },
  {
   "cell_type": "code",
   "execution_count": 159,
   "id": "e9f47c84",
   "metadata": {},
   "outputs": [
    {
     "data": {
      "text/plain": [
       "{'aa': 1, 'ccf': 4}"
      ]
     },
     "execution_count": 159,
     "metadata": {},
     "output_type": "execute_result"
    }
   ],
   "source": [
    "a ={\"aa\":1}\n",
    "b = {\"ccf\":4}\n",
    "\n",
    "\n",
    "a.update(b)\n",
    "a"
   ]
  },
  {
   "cell_type": "code",
   "execution_count": null,
   "id": "ecd2f0f9",
   "metadata": {},
   "outputs": [],
   "source": [
    "pd.Series(\" \".join(df.Text).split()).value_counts()"
   ]
  },
  {
   "cell_type": "code",
   "execution_count": 168,
   "id": "f170c20a",
   "metadata": {},
   "outputs": [
    {
     "data": {
      "text/plain": [
       "['the', 'to', 'of', 'and', 'Jews', 'in', 'a', 'is', 'for', 'are']"
      ]
     },
     "execution_count": 168,
     "metadata": {},
     "output_type": "execute_result"
    }
   ],
   "source": [
    "pd.Series(\" \".join(df.Text).split()).value_counts().head(10).index.to_list()"
   ]
  }
 ],
 "metadata": {
  "kernelspec": {
   "display_name": ".venv (3.13.3)",
   "language": "python",
   "name": "python3"
  },
  "language_info": {
   "codemirror_mode": {
    "name": "ipython",
    "version": 3
   },
   "file_extension": ".py",
   "mimetype": "text/x-python",
   "name": "python",
   "nbconvert_exporter": "python",
   "pygments_lexer": "ipython3",
   "version": "3.13.3"
  }
 },
 "nbformat": 4,
 "nbformat_minor": 5
}
