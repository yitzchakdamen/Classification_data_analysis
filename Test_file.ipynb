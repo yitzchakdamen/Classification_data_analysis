{
 "cells": [
  {
   "cell_type": "code",
   "execution_count": 3,
   "id": "41deaa8c",
   "metadata": {},
   "outputs": [
    {
     "ename": "ModuleNotFoundError",
     "evalue": "No module named 'pandas'",
     "output_type": "error",
     "traceback": [
      "\u001b[31m---------------------------------------------------------------------------\u001b[39m",
      "\u001b[31mModuleNotFoundError\u001b[39m                       Traceback (most recent call last)",
      "\u001b[36mCell\u001b[39m\u001b[36m \u001b[39m\u001b[32mIn[3]\u001b[39m\u001b[32m, line 1\u001b[39m\n\u001b[32m----> \u001b[39m\u001b[32m1\u001b[39m \u001b[38;5;28;01mimport\u001b[39;00m\u001b[38;5;250m \u001b[39m\u001b[34;01mpandas\u001b[39;00m\u001b[38;5;250m \u001b[39m\u001b[38;5;28;01mas\u001b[39;00m\u001b[38;5;250m \u001b[39m\u001b[34;01mpd\u001b[39;00m\n",
      "\u001b[31mModuleNotFoundError\u001b[39m: No module named 'pandas'"
     ]
    }
   ],
   "source": [
    "import pandas as pd"
   ]
  },
  {
   "cell_type": "code",
   "execution_count": null,
   "id": "301a9d5b",
   "metadata": {},
   "outputs": [],
   "source": [
    "{\n",
    "\"total_tweets\": {\n",
    "\"antisemitic\": 512,\n",
    "\"non_antisemitic\": 741,\n",
    "\"total\": 12800,\n",
    "<unspecified>: 27\n",
    "},\n",
    "\"average_length\": {\n",
    "\"antisemitic\": 18.3,\n",
    "\"non_antisemitic\": 20.7,\n",
    "\"total\": 24.2\n",
    "},\n",
    "\"common_words\": {\n",
    "\"total\":\n",
    "[\"the\",\"and\",\"is\",\"to\",\"jews\",\"support\",\"zionists\",\"peace\",\"fight\",\"truth\"]\n",
    "},\n",
    "\"longest_3_tweets\": {\n",
    "\"antisemitic\": [\n",
    "\"Zionists control everything and lie about the holocaust for sympathy and\n",
    "power. Wake up, world.\",\n",
    "\"Jews are manipulating global politics again. Open your eyes, they’ve done\n",
    "this before.\",\n",
    "\"The media is owned by Zionists, they spread lies daily. Don’t believe\n",
    "anything they say!\"\n",
    "],\n",
    "\"non_antisemitic\": [\n",
    "\"Today we honor all communities and stand against hate. Peace and unity are\n",
    "stronger than division.\",\n",
    "\"I’m proud to support equal rights for all people, regardless of religion,\n",
    "race or belief.\",\n",
    "\"Education is the best way to fight ignorance and bigotry. We must keep\n",
    "learning and listening.\"\n",
    "]\n",
    "},\n",
    "\"uppercase_words\": {\n",
    "\"antisemitic\": 139,\n",
    "\"non_antisemitic\": 86,\n",
    "\"total\": 421\n",
    "}\n",
    "}"
   ]
  },
  {
   "cell_type": "code",
   "execution_count": null,
   "metadata": {},
   "outputs": [],
   "source": []
  }
 ],
 "metadata": {
  "kernelspec": {
   "display_name": ".venv (3.13.3)",
   "language": "python",
   "name": "python3"
  },
  "language_info": {
   "codemirror_mode": {
    "name": "ipython",
    "version": 3
   },
   "file_extension": ".py",
   "mimetype": "text/x-python",
   "name": "python",
   "nbconvert_exporter": "python",
   "pygments_lexer": "ipython3",
   "version": "3.13.3"
  }
 },
 "nbformat": 4,
 "nbformat_minor": 5
}
