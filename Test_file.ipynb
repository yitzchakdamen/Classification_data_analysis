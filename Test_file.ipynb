{
 "cells": [
  {
   "cell_type": "code",
   "execution_count": null,
   "id": "41deaa8c",
   "metadata": {},
   "outputs": [],
   "source": [
    "import pandas as pd"
   ]
  },
  {
   "cell_type": "code",
   "execution_count": null,
   "id": "7e5ddd67",
   "metadata": {},
   "outputs": [],
   "source": [
    "df = pd.read_csv(\"data/tweets_dataset.csv\")\n",
    "df"
   ]
  },
  {
   "cell_type": "code",
   "execution_count": null,
   "id": "ef5ac81e",
   "metadata": {},
   "outputs": [],
   "source": [
    "len(df)"
   ]
  },
  {
   "cell_type": "code",
   "execution_count": null,
   "id": "f368cf29",
   "metadata": {},
   "outputs": [],
   "source": [
    "df.Biased.unique()\n",
    "a = (df.Biased == 1).sum()\n",
    "b = (df.Biased == 0).sum()\n",
    "df.shape[0] - a - b"
   ]
  },
  {
   "cell_type": "code",
   "execution_count": null,
   "id": "4e925863",
   "metadata": {},
   "outputs": [],
   "source": [
    "a = df[(df.Biased != 0) & ( df.Biased != 1)]\n",
    "x = a.Text.str.len().mean() \n",
    "x"
   ]
  },
  {
   "cell_type": "code",
   "execution_count": null,
   "id": "1024033d",
   "metadata": {},
   "outputs": [],
   "source": [
    "df.Biased.value_counts()"
   ]
  },
  {
   "cell_type": "code",
   "execution_count": 84,
   "id": "ea9f33f4",
   "metadata": {},
   "outputs": [
    {
     "data": {
      "text/plain": [
       "np.float64(23.6072)"
      ]
     },
     "metadata": {},
     "output_type": "display_data"
    },
    {
     "data": {
      "text/plain": [
       "0       271\n",
       "1        51\n",
       "2       164\n",
       "15      289\n",
       "39       72\n",
       "       ... \n",
       "6936     89\n",
       "6937    112\n",
       "6938     68\n",
       "6939    118\n",
       "6940    132\n",
       "Name: Text, Length: 1250, dtype: int64"
      ]
     },
     "metadata": {},
     "output_type": "display_data"
    }
   ],
   "source": [
    "d = df[df.Biased == 1 ]\n",
    "z = d.Text.str.split()\n",
    "display(z.str.len().mean())\n",
    "display(d.Text.str.len())\n",
    "\n",
    "\n",
    "# d = df[df.Biased == 0 ]\n",
    "# d.Text.str.len().mean()\n",
    "\n",
    "# df.Text.str.len().mean()\n"
   ]
  },
  {
   "cell_type": "code",
   "execution_count": null,
   "id": "e0444d60",
   "metadata": {},
   "outputs": [],
   "source": [
    "df.iloc[0].Text"
   ]
  },
  {
   "cell_type": "code",
   "execution_count": null,
   "id": "7ac710dc",
   "metadata": {},
   "outputs": [],
   "source": []
  },
  {
   "cell_type": "code",
   "execution_count": 104,
   "id": "eece4e4d",
   "metadata": {},
   "outputs": [
    {
     "data": {
      "text/plain": [
       "[6088, 5987, 3659]"
      ]
     },
     "execution_count": 104,
     "metadata": {},
     "output_type": "execute_result"
    }
   ],
   "source": [
    "df.Text.str.len().sort_values(ascending=False).head(3).index.to_list()\n"
   ]
  },
  {
   "cell_type": "code",
   "execution_count": 144,
   "id": "b329e968",
   "metadata": {},
   "outputs": [
    {
     "data": {
      "text/plain": [
       "np.int64(7085)"
      ]
     },
     "execution_count": 144,
     "metadata": {},
     "output_type": "execute_result"
    }
   ],
   "source": [
    "\n",
    "# df.Text.str.split().flatten()\n",
    "pd.Series(\" \".join(df.Text).split()).str.isupper().sum()"
   ]
  }
 ],
 "metadata": {
  "kernelspec": {
   "display_name": ".venv (3.13.3)",
   "language": "python",
   "name": "python3"
  },
  "language_info": {
   "codemirror_mode": {
    "name": "ipython",
    "version": 3
   },
   "file_extension": ".py",
   "mimetype": "text/x-python",
   "name": "python",
   "nbconvert_exporter": "python",
   "pygments_lexer": "ipython3",
   "version": "3.13.3"
  }
 },
 "nbformat": 4,
 "nbformat_minor": 5
}
